{
 "cells": [
  {
   "cell_type": "code",
   "execution_count": 1,
   "metadata": {},
   "outputs": [],
   "source": [
    "from ucimlrepo import fetch_ucirepo \n",
    "from sklearn.model_selection import train_test_split\n",
    "import pandas\n",
    "from sklearn.preprocessing import LabelEncoder\n",
    "from sklearn.preprocessing import MinMaxScaler\n",
    "from sklearn import tree\n",
    "from sklearn.metrics import mean_squared_error, mean_absolute_error, r2_score"
   ]
  },
  {
   "cell_type": "code",
   "execution_count": 2,
   "metadata": {},
   "outputs": [],
   "source": [
    "# CARREGANDO DADOS\n",
    "\n",
    "# importando dataset\n",
    "dataset = fetch_ucirepo(id=320) # 649 registros e 30 atributos\n",
    "  \n",
    "# coletando as informações\n",
    "data_frame = dataset.data.original"
   ]
  },
  {
   "cell_type": "code",
   "execution_count": 3,
   "metadata": {},
   "outputs": [
    {
     "name": "stdout",
     "output_type": "stream",
     "text": [
      "PRÉ TRATAMENTO:  649\n",
      "VALORES DUPLICADOS:  0\n",
      "PÓS TRATAMENTO:  649\n"
     ]
    }
   ],
   "source": [
    "# TRATANDO DADOS\n",
    "\n",
    "print(\"PRÉ TRATAMENTO: \", len(data_frame))\n",
    "\n",
    "# removendo colunas com muitos nulos\n",
    "tolerancia = len(data_frame) * 0.7\n",
    "data_frame = data_frame.dropna(axis=1, thresh=tolerancia)\n",
    "\n",
    "# removendo duplicados\n",
    "print(\"VALORES DUPLICADOS: \", data_frame.duplicated().sum())\n",
    "data_frame = data_frame.drop_duplicates()\n",
    "\n",
    "# convertendo colunas categóricas em valores inteiros\n",
    "conversores = {}\n",
    "for coluna in data_frame.columns:\n",
    "    if (data_frame[coluna].dtype == type(object)):\n",
    "        conversor = LabelEncoder()\n",
    "        data_frame[coluna] = conversor.fit_transform(data_frame[coluna])\n",
    "        conversores[coluna] = conversor\n",
    "\n",
    "# convertendo colunas numéricas na escala de 0 a 1\n",
    "escalador = MinMaxScaler()\n",
    "data_frame[data_frame.select_dtypes(include=\"number\").columns] = escalador.fit_transform(data_frame.select_dtypes(include=\"number\"))\n",
    "\n",
    "print(\"PÓS TRATAMENTO: \", len(data_frame))"
   ]
  },
  {
   "cell_type": "code",
   "execution_count": 4,
   "metadata": {},
   "outputs": [
    {
     "name": "stdout",
     "output_type": "stream",
     "text": [
      "Index(['school', 'sex', 'age', 'address', 'famsize', 'Pstatus', 'Medu', 'Fedu',\n",
      "       'Mjob', 'Fjob', 'reason', 'guardian', 'traveltime', 'studytime',\n",
      "       'failures', 'schoolsup', 'famsup', 'paid', 'activities', 'nursery',\n",
      "       'higher', 'internet', 'romantic', 'famrel', 'freetime', 'goout', 'Dalc',\n",
      "       'Walc', 'health', 'absences', 'G1', 'G2', 'G3'],\n",
      "      dtype='object')\n"
     ]
    }
   ],
   "source": [
    "print(data_frame.columns)"
   ]
  },
  {
   "cell_type": "code",
   "execution_count": 5,
   "metadata": {},
   "outputs": [],
   "source": [
    "# DIVIDINDO O DATASET TRATADO\n",
    "\n",
    "atributos = data_frame.drop([\"G1\", \"G2\", \"G3\"], axis=1)\n",
    "respostas = data_frame[[\"G1\", \"G2\", \"G3\"]]\n",
    "\n",
    "a_treino, a_teste, r_treino, r_teste = train_test_split(atributos, respostas, test_size=0.3, random_state=42)\n"
   ]
  },
  {
   "cell_type": "code",
   "execution_count": 6,
   "metadata": {},
   "outputs": [],
   "source": [
    "# CRIANDO PARÂMETROS PARA OS MODELOS\n",
    "\n",
    "lista_parametros = [\n",
    "    {\"id\": \"1\", \"criterion\": \"friedman_mse\", \"max_depth\": None, \"min_samples_split\": 2, \"min_samples_leaf\": 5},\n",
    "    {\"id\": \"2\", \"criterion\": \"squared_error\", \"max_depth\": 5, \"min_samples_split\": 10, \"min_samples_leaf\": 5},\n",
    "    {\"id\": \"3\", \"criterion\": \"poisson\", \"max_depth\": None, \"min_samples_split\": 2, \"min_samples_leaf\": 5},\n",
    "    {\"id\": \"4\", \"criterion\": \"absolute_error\", \"max_depth\": 5, \"min_samples_split\": 10, \"min_samples_leaf\": 5},\n",
    "]"
   ]
  },
  {
   "cell_type": "code",
   "execution_count": 7,
   "metadata": {},
   "outputs": [],
   "source": [
    "# APLICANDO MODELO\n",
    "\n",
    "# criando a lista de resultados finais\n",
    "lista_resultados = []\n",
    "\n",
    "for parametros in lista_parametros:\n",
    "    # criando regressor\n",
    "    regressor = tree.DecisionTreeRegressor(\n",
    "        criterion=parametros[\"criterion\"],\n",
    "        max_depth=parametros[\"max_depth\"],\n",
    "        min_samples_split=parametros[\"min_samples_split\"],\n",
    "        min_samples_leaf=parametros[\"min_samples_leaf\"],\n",
    "    )\n",
    "\n",
    "    # treinando o modelo\n",
    "    regressor.fit(a_treino, r_treino)\n",
    "\n",
    "    # prevendo respostas\n",
    "    r_previsao = regressor.predict(a_teste)\n",
    "\n",
    "    # calculando métricas\n",
    "    mse = mean_squared_error(r_teste, r_previsao)\n",
    "    mae = mean_absolute_error(r_teste, r_previsao)\n",
    "    r2 = r2_score(r_teste, r_previsao)\n",
    "\n",
    "    # salvando resultados\n",
    "    lista_resultados.append([parametros[\"id\"], mse, mae, r2])"
   ]
  },
  {
   "cell_type": "code",
   "execution_count": 8,
   "metadata": {},
   "outputs": [
    {
     "name": "stdout",
     "output_type": "stream",
     "text": [
      "  Identificador  ErroQuadráticoMédio  ErroAbsolutoMédio        R2\n",
      "0             1             0.031360           0.135080 -0.158811\n",
      "1             2             0.023462           0.118802  0.127015\n",
      "2             3             0.031141           0.134533 -0.151533\n",
      "3             4             0.022792           0.109897  0.155218\n"
     ]
    }
   ],
   "source": [
    "# EXIBINDO RESULTADOS\n",
    "tabela_resultados = pandas.DataFrame(lista_resultados, columns=[\"Identificador\", \"ErroQuadráticoMédio\", \"ErroAbsolutoMédio\", \"R2\"])\n",
    "print(tabela_resultados)"
   ]
  }
 ],
 "metadata": {
  "kernelspec": {
   "display_name": "Python 3",
   "language": "python",
   "name": "python3"
  },
  "language_info": {
   "codemirror_mode": {
    "name": "ipython",
    "version": 3
   },
   "file_extension": ".py",
   "mimetype": "text/x-python",
   "name": "python",
   "nbconvert_exporter": "python",
   "pygments_lexer": "ipython3",
   "version": "3.12.2"
  }
 },
 "nbformat": 4,
 "nbformat_minor": 2
}
