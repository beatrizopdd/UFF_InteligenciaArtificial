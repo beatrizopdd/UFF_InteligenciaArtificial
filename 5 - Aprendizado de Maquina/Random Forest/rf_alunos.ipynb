{
 "cells": [
  {
   "cell_type": "code",
   "execution_count": 1,
   "metadata": {},
   "outputs": [],
   "source": [
    "# importando pacotes\n",
    "from ucimlrepo import fetch_ucirepo \n",
    "import pandas\n",
    "from sklearn.preprocessing import LabelEncoder\n",
    "from sklearn.model_selection import train_test_split\n",
    "from sklearn.ensemble import RandomForestClassifier\n",
    "from sklearn.metrics import accuracy_score, f1_score"
   ]
  },
  {
   "cell_type": "code",
   "execution_count": 2,
   "metadata": {},
   "outputs": [],
   "source": [
    "# CARREGANDO DADOS\n",
    "\n",
    "# importando dataset\n",
    "dataset = fetch_ucirepo(id=320) # 649 registros e 30 atributos\n",
    "  \n",
    "# coletando as informações\n",
    "data_frame = dataset.data.original"
   ]
  },
  {
   "cell_type": "code",
   "execution_count": 3,
   "metadata": {},
   "outputs": [
    {
     "name": "stdout",
     "output_type": "stream",
     "text": [
      "PRÉ TRATAMENTO:  649\n",
      "VALORES DUPLICADOS:  0\n",
      "PÓS TRATAMENTO:  649\n"
     ]
    }
   ],
   "source": [
    "# TRATANDO DADOS\n",
    "\n",
    "print(\"PRÉ TRATAMENTO: \", len(data_frame))\n",
    "\n",
    "# removendo colunas com muitos nulos\n",
    "tolerancia = len(data_frame) * 0.7\n",
    "data_frame = data_frame.dropna(axis=1, thresh=tolerancia)\n",
    "\n",
    "# removendo duplicados\n",
    "print(\"VALORES DUPLICADOS: \", data_frame.duplicated().sum())\n",
    "data_frame = data_frame.drop_duplicates()\n",
    "\n",
    "# convertendo colunas categóricas em valores inteiros\n",
    "conversores = {}\n",
    "for coluna in data_frame.columns:\n",
    "    if (data_frame[coluna].dtype == type(object)):\n",
    "        conversor = LabelEncoder()\n",
    "        data_frame[coluna] = conversor.fit_transform(data_frame[coluna])\n",
    "        conversores[coluna] = conversor\n",
    "\n",
    "print(\"PÓS TRATAMENTO: \", len(data_frame))"
   ]
  },
  {
   "cell_type": "code",
   "execution_count": 4,
   "metadata": {},
   "outputs": [
    {
     "name": "stdout",
     "output_type": "stream",
     "text": [
      "Index(['school', 'sex', 'age', 'address', 'famsize', 'Pstatus', 'Medu', 'Fedu',\n",
      "       'Mjob', 'Fjob', 'reason', 'guardian', 'traveltime', 'studytime',\n",
      "       'failures', 'schoolsup', 'famsup', 'paid', 'activities', 'nursery',\n",
      "       'higher', 'internet', 'romantic', 'famrel', 'freetime', 'goout', 'Dalc',\n",
      "       'Walc', 'health', 'absences', 'G1', 'G2', 'G3'],\n",
      "      dtype='object')\n"
     ]
    }
   ],
   "source": [
    "print(data_frame.columns)"
   ]
  },
  {
   "cell_type": "code",
   "execution_count": 5,
   "metadata": {},
   "outputs": [],
   "source": [
    "# DIVIDINDO O DATASET TRATADO\n",
    "\n",
    "atributos = data_frame.drop([\"G1\", \"G2\", \"G3\"], axis=1)\n",
    "respostas = data_frame[[\"G1\", \"G2\", \"G3\"]]\n",
    "\n",
    "a_treino, a_teste, r_treino, r_teste = train_test_split(atributos, respostas, test_size=0.3, random_state=42)\n"
   ]
  },
  {
   "cell_type": "code",
   "execution_count": 6,
   "metadata": {},
   "outputs": [],
   "source": [
    "# CRIANDO PARÂMETROS PARA OS MODELOS\n",
    "\n",
    "lista_parametros = [\n",
    "    {\"id\": \"1\", \"n_estimators\": 10, \"criterion\": \"gini\", \"max_depth\": None, \"min_samples_split\": 2, \"min_samples_leaf\": 5},\n",
    "    {\"id\": \"2\", \"n_estimators\": 25, \"criterion\": \"entropy\", \"max_depth\": 5, \"min_samples_split\": 10, \"min_samples_leaf\": 5},\n",
    "    {\"id\": \"3\", \"n_estimators\": 75, \"criterion\": \"gini\", \"max_depth\": None, \"min_samples_split\": 2, \"min_samples_leaf\": 5},\n",
    "    {\"id\": \"4\", \"n_estimators\": 100, \"criterion\": \"entropy\", \"max_depth\": 5, \"min_samples_split\": 10, \"min_samples_leaf\": 5},\n",
    "]"
   ]
  },
  {
   "cell_type": "code",
   "execution_count": 7,
   "metadata": {},
   "outputs": [],
   "source": [
    "# APLICANDO MODELO\n",
    "\n",
    "# criando a lista de resultados finais\n",
    "lista_resultados = []\n",
    "\n",
    "for parametros in lista_parametros:\n",
    "    # criando classificador\n",
    "    classificador = RandomForestClassifier(\n",
    "        n_estimators=parametros[\"n_estimators\"], \n",
    "        criterion=parametros[\"criterion\"], \n",
    "        max_depth=parametros[\"max_depth\"], \n",
    "        min_samples_split=parametros[\"min_samples_split\"], \n",
    "        min_samples_leaf=parametros[\"min_samples_leaf\"], \n",
    "        random_state=42\n",
    "    )\n",
    "\n",
    "    # treinando o modelo\n",
    "    classificador.fit(a_treino, r_treino)\n",
    "\n",
    "    # prevendo respostas\n",
    "    r_previsao = classificador.predict(a_teste)\n",
    "\n",
    "    # calculando métricas\n",
    "    acuracia_G1 = accuracy_score(r_teste.iloc[:, 0], r_previsao[:, 0])\n",
    "    acuracia_G2 = accuracy_score(r_teste.iloc[:, 1], r_previsao[:, 1])\n",
    "    acuracia_G3 = accuracy_score(r_teste.iloc[:, 2], r_previsao[:, 2])\n",
    "    f1_G1 = f1_score(r_teste.iloc[:, 0], r_previsao[:, 0], average=\"weighted\")\n",
    "    f1_G2 = f1_score(r_teste.iloc[:, 1], r_previsao[:, 1], average=\"weighted\")\n",
    "    f1_G3 = f1_score(r_teste.iloc[:, 2], r_previsao[:, 2], average=\"weighted\")\n",
    "\n",
    "    # salvando resultados\n",
    "    lista_resultados.append([parametros[\"id\"], acuracia_G1, f1_G1, acuracia_G2, f1_G2, acuracia_G3, f1_G3])"
   ]
  },
  {
   "cell_type": "code",
   "execution_count": 8,
   "metadata": {},
   "outputs": [
    {
     "name": "stdout",
     "output_type": "stream",
     "text": [
      "  Identificador  AcuráciaG1  F1-scoreG1  AcuráciaG2  F1-scoreG2  AcuráciaG3  \\\n",
      "0             1    0.174359    0.153729    0.143590    0.134743    0.174359   \n",
      "1             2    0.143590    0.117841    0.210256    0.175248    0.169231   \n",
      "2             3    0.143590    0.120410    0.205128    0.168468    0.169231   \n",
      "3             4    0.143590    0.114371    0.189744    0.158120    0.174359   \n",
      "\n",
      "   F1-scoreG3  \n",
      "0    0.142013  \n",
      "1    0.109988  \n",
      "2    0.122499  \n",
      "3    0.109010  \n"
     ]
    }
   ],
   "source": [
    "# mostrando resultados\n",
    "tabela_resultados = pandas.DataFrame(lista_resultados, columns=[\"Identificador\", \"AcuráciaG1\", \"F1-scoreG1\", \"AcuráciaG2\", \"F1-scoreG2\", \"AcuráciaG3\", \"F1-scoreG3\"])\n",
    "print(tabela_resultados)"
   ]
  }
 ],
 "metadata": {
  "kernelspec": {
   "display_name": "Python 3",
   "language": "python",
   "name": "python3"
  },
  "language_info": {
   "codemirror_mode": {
    "name": "ipython",
    "version": 3
   },
   "file_extension": ".py",
   "mimetype": "text/x-python",
   "name": "python",
   "nbconvert_exporter": "python",
   "pygments_lexer": "ipython3",
   "version": "3.12.2"
  }
 },
 "nbformat": 4,
 "nbformat_minor": 2
}
