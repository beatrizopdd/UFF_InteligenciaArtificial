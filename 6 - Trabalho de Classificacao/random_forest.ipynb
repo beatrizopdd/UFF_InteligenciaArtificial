{
 "cells": [
  {
   "cell_type": "markdown",
   "metadata": {},
   "source": [
    "### COLETA DE DADOS"
   ]
  },
  {
   "cell_type": "code",
   "execution_count": 1,
   "metadata": {},
   "outputs": [],
   "source": [
    "# CARREGANDO DADOS\n",
    "from ucimlrepo import fetch_ucirepo \n",
    "\n",
    "# importando dataset\n",
    "dataset = fetch_ucirepo(id=848) # 61068 registros e 20 atributos\n",
    "  \n",
    "# coletando as informações\n",
    "data_frame = dataset.data.original"
   ]
  },
  {
   "cell_type": "markdown",
   "metadata": {},
   "source": [
    "### PRÉ-PROCESSAMENTO DE DADOS"
   ]
  },
  {
   "cell_type": "code",
   "execution_count": 2,
   "metadata": {},
   "outputs": [
    {
     "name": "stdout",
     "output_type": "stream",
     "text": [
      "PRÉ TRATAMENTO:  61069\n",
      "VALORES DUPLICADOS:  146\n",
      "PÓS TRATAMENTO:  60923\n"
     ]
    }
   ],
   "source": [
    "# TRATANDO DADOS\n",
    "import pandas\n",
    "from sklearn.preprocessing import LabelEncoder\n",
    "\n",
    "print(\"PRÉ TRATAMENTO: \", len(data_frame))\n",
    "\n",
    "# removendo colunas com muitos nulos\n",
    "tolerancia = len(data_frame) * 0.7\n",
    "data_frame = data_frame.dropna(axis=1, thresh=tolerancia)\n",
    "\n",
    "# removendo duplicados\n",
    "print(\"VALORES DUPLICADOS: \", data_frame.duplicated().sum())\n",
    "data_frame = data_frame.drop_duplicates()\n",
    "\n",
    "# convertendo colunas categóricas em valores inteiros\n",
    "conversores = {}\n",
    "for coluna in data_frame.columns:\n",
    "    if (data_frame[coluna].dtype == type(object)):\n",
    "        conversor = LabelEncoder()\n",
    "        data_frame[coluna] = conversor.fit_transform(data_frame[coluna])\n",
    "        conversores[coluna] = conversor\n",
    "\n",
    "print(\"PÓS TRATAMENTO: \", len(data_frame))"
   ]
  },
  {
   "cell_type": "markdown",
   "metadata": {},
   "source": [
    "### DIVISÃO DE DADOS"
   ]
  },
  {
   "cell_type": "code",
   "execution_count": 3,
   "metadata": {},
   "outputs": [
    {
     "name": "stdout",
     "output_type": "stream",
     "text": [
      "Index(['class', 'cap-diameter', 'cap-shape', 'cap-surface', 'cap-color',\n",
      "       'does-bruise-or-bleed', 'gill-attachment', 'gill-color', 'stem-height',\n",
      "       'stem-width', 'stem-color', 'has-ring', 'ring-type', 'habitat',\n",
      "       'season'],\n",
      "      dtype='object')\n"
     ]
    }
   ],
   "source": [
    "print(data_frame.columns)"
   ]
  },
  {
   "cell_type": "code",
   "execution_count": 4,
   "metadata": {},
   "outputs": [],
   "source": [
    "# DIVIDINDO O DATASET TRATADO\n",
    "import numpy\n",
    "from sklearn.model_selection import train_test_split\n",
    "\n",
    "atributos = data_frame.drop([\"class\"], axis=1)\n",
    "respostas = data_frame[[\"class\"]]\n",
    "\n",
    "a_treino, a_teste, r_treino, r_teste = train_test_split(atributos, respostas, test_size=0.3, random_state=42)\n",
    "\n",
    "# convertendo de (N, 1) para (N,)\n",
    "r_treino = numpy.ravel(r_treino)\n",
    "r_teste = numpy.ravel(r_teste)"
   ]
  },
  {
   "cell_type": "code",
   "execution_count": 5,
   "metadata": {},
   "outputs": [
    {
     "name": "stdout",
     "output_type": "stream",
     "text": [
      "TAMANHO DO DATASET TRATADO:  60923\n",
      "CONJUNTO DE TREINO:  (42646, 14)  e  (42646,)\n",
      "CONJUNTO DE TESTE:  (18277, 14)  e  (18277,)\n"
     ]
    }
   ],
   "source": [
    "print(\"TAMANHO DO DATASET TRATADO: \", len(data_frame))\n",
    "print(\"CONJUNTO DE TREINO: \", a_treino.shape, \" e \", r_treino.shape)\n",
    "print(\"CONJUNTO DE TESTE: \", a_teste.shape, \" e \", r_teste.shape)"
   ]
  },
  {
   "cell_type": "markdown",
   "metadata": {},
   "source": [
    "### TREINAMENTO E AVALIAÇÃO DO MODELO"
   ]
  },
  {
   "cell_type": "code",
   "execution_count": 6,
   "metadata": {},
   "outputs": [],
   "source": [
    "# CRIANDO PARÂMETROS PARA OS MODELOS\n",
    "\n",
    "lista_parametros = [\n",
    "    {\"id\": \"A\", \"n_estimators\": 10, \"criterion\": \"gini\", \"max_depth\": None, \"min_samples_split\": 2, \"min_samples_leaf\": 5},\n",
    "    {\"id\": \"B\", \"n_estimators\": 100, \"criterion\": \"gini\", \"max_depth\": 10, \"min_samples_split\": 3, \"min_samples_leaf\": 10},\n",
    "    {\"id\": \"C\", \"n_estimators\": 10, \"criterion\": \"entropy\", \"max_depth\": None, \"min_samples_split\": 2, \"min_samples_leaf\": 5},\n",
    "    {\"id\": \"D\", \"n_estimators\": 100, \"criterion\": \"entropy\", \"max_depth\": 10, \"min_samples_split\": 3, \"min_samples_leaf\": 10},\n",
    "]"
   ]
  },
  {
   "cell_type": "code",
   "execution_count": 7,
   "metadata": {},
   "outputs": [],
   "source": [
    "# APLICANDO MODELO\n",
    "from sklearn.ensemble import RandomForestClassifier\n",
    "from sklearn.metrics import accuracy_score, f1_score\n",
    "\n",
    "# criando a lista de resultados finais\n",
    "lista_resultados = []\n",
    "\n",
    "for parametros in lista_parametros:\n",
    "    # criando classificador\n",
    "    classificador = RandomForestClassifier(\n",
    "        n_estimators=parametros[\"n_estimators\"], \n",
    "        criterion=parametros[\"criterion\"], \n",
    "        max_depth=parametros[\"max_depth\"], \n",
    "        min_samples_split=parametros[\"min_samples_split\"], \n",
    "        min_samples_leaf=parametros[\"min_samples_leaf\"], \n",
    "        random_state=42\n",
    "    )\n",
    "\n",
    "    # treinando o modelo\n",
    "    classificador.fit(a_treino, r_treino)\n",
    "\n",
    "    # prevendo respostas\n",
    "    r_previsao = classificador.predict(a_teste)\n",
    "\n",
    "    # calculando métricas\n",
    "    acuracia = accuracy_score(r_teste, r_previsao)\n",
    "    f1 = f1_score(r_teste, r_previsao, average=\"weighted\")\n",
    "\n",
    "    # salvando resultados\n",
    "    lista_resultados.append([parametros[\"id\"], acuracia, f1])"
   ]
  },
  {
   "cell_type": "code",
   "execution_count": 8,
   "metadata": {},
   "outputs": [
    {
     "name": "stdout",
     "output_type": "stream",
     "text": [
      "  Identificador  Acurácia  F1-score\n",
      "0             A  0.998468  0.998468\n",
      "1             B  0.990918  0.990916\n",
      "2             C  0.998249  0.998249\n",
      "3             D  0.985282  0.985285\n"
     ]
    }
   ],
   "source": [
    "# EXIBINDO RESULTADOS\n",
    "tabela_resultados = pandas.DataFrame(lista_resultados, columns=[\"Identificador\", \"Acurácia\", \"F1-score\"])\n",
    "print(tabela_resultados)"
   ]
  }
 ],
 "metadata": {
  "kernelspec": {
   "display_name": "Python 3",
   "language": "python",
   "name": "python3"
  },
  "language_info": {
   "codemirror_mode": {
    "name": "ipython",
    "version": 3
   },
   "file_extension": ".py",
   "mimetype": "text/x-python",
   "name": "python",
   "nbconvert_exporter": "python",
   "pygments_lexer": "ipython3",
   "version": "3.12.2"
  }
 },
 "nbformat": 4,
 "nbformat_minor": 2
}
